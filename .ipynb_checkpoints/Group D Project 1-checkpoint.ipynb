{
 "cells": [
  {
   "cell_type": "code",
   "execution_count": 8,
   "id": "adf1e678-cce1-4bb9-9109-32f80c90deab",
   "metadata": {},
   "outputs": [],
   "source": [
    "# Initialise imports\n",
    "\n",
    "import os\n",
    "import requests\n",
    "import json\n",
    "import pandas as pd\n",
    "from dotenv import load_dotenv\n",
    "\n",
    "%matplotlib inline"
   ]
  },
  {
   "cell_type": "code",
   "execution_count": 9,
   "id": "3325a27b-0925-449b-8a30-fe5d29be5f3f",
   "metadata": {},
   "outputs": [
    {
     "data": {
      "text/plain": [
       "True"
      ]
     },
     "execution_count": 9,
     "metadata": {},
     "output_type": "execute_result"
    }
   ],
   "source": [
    "# Load .env enviroment variables\n",
    "\n",
    "load_dotenv()"
   ]
  },
  {
   "cell_type": "code",
   "execution_count": 10,
   "id": "e1895454-9271-46ee-928e-2a5807e2cd68",
   "metadata": {},
   "outputs": [],
   "source": [
    "#Loaded Metals API\n",
    "\n",
    "metals_api = os.getenv(\"METALS_API_KEY\")"
   ]
  },
  {
   "cell_type": "code",
   "execution_count": 18,
   "id": "7f9ea5ec-472d-4a8e-92d4-ba98e294adf1",
   "metadata": {},
   "outputs": [
    {
     "name": "stdout",
     "output_type": "stream",
     "text": [
      "{'success': False, 'error': {'code': 501, 'type': 'invalid_timeframe', 'info': 'No or an invalid timeframe has been specified.'}}\n"
     ]
    }
   ],
   "source": [
    "#Perform get requests for Silver\n",
    "\n",
    "base_currency = \"AUD\"\n",
    "symbol_1 = 'XAG'\n",
    "endpoint = 'timeseries'\n",
    "access_key = 'juz3s9u1rg2ntf7tqkun6ij1ux3a42blctrco9u1supl22f0hc5jqc988en1'\n",
    "\n",
    "XAG_response = requests.get('https://metals-api.com/api/'+endpoint+'?access_key='+access_key+'&base='+base_currency+'&symbols='+symbol_1)\n",
    "\n",
    "print(XAG_response.json())"
   ]
  },
  {
   "cell_type": "code",
   "execution_count": 19,
   "id": "f1fc6170-17e1-410e-ab4f-c46c6ddc87c0",
   "metadata": {},
   "outputs": [
    {
     "data": {
      "text/plain": [
       "{'success': False,\n",
       " 'error': {'code': 101,\n",
       "  'type': 'invalid_access_key',\n",
       "  'info': 'No API Key was specified or an invalid API Key was specified.'}}"
      ]
     },
     "execution_count": 19,
     "metadata": {},
     "output_type": "execute_result"
    }
   ],
   "source": [
    "req_url = f'https://metals-api.com/api/timeseries? access_key = {access_key}& start_date = 2012-05-01& end_date = 2012-05-25'\n",
    "XAG_response = requests.get(req_url)\n",
    "XAG_response.json()"
   ]
  },
  {
   "cell_type": "code",
   "execution_count": 20,
   "id": "be2b3b71-78eb-41e1-bad4-be8b23bb15fa",
   "metadata": {},
   "outputs": [
    {
     "name": "stdout",
     "output_type": "stream",
     "text": [
      "{'success': False, 'error': {'code': 501, 'type': 'invalid_timeframe', 'info': 'No or an invalid timeframe has been specified.'}}\n"
     ]
    }
   ],
   "source": [
    "#Perform get requests for Platinum\n",
    "\n",
    "base_currency = \"AUD\"\n",
    "start_date = 2012-1-1\n",
    "end_date = 2022-1-1\n",
    "symbol_2 = 'XPT'\n",
    "endpoint = 'timeseries'\n",
    "access_key = 'juz3s9u1rg2ntf7tqkun6ij1ux3a42blctrco9u1supl22f0hc5jqc988en1'\n",
    "\n",
    "XPT_response = requests.get('https://metals-api.com/api/'+endpoint+'?access_key='+access_key+'&base='+base_currency+'&symbols='+symbol_2)\n",
    "\n",
    "print(XPT_response.json())"
   ]
  },
  {
   "cell_type": "code",
   "execution_count": 15,
   "id": "c937f3fe-129c-4bfe-a5c4-a20e02742a2f",
   "metadata": {},
   "outputs": [
    {
     "ename": "NameError",
     "evalue": "name 'api' is not defined",
     "output_type": "error",
     "traceback": [
      "\u001b[1;31m---------------------------------------------------------------------------\u001b[0m",
      "\u001b[1;31mNameError\u001b[0m                                 Traceback (most recent call last)",
      "\u001b[1;32mC:\\Users\\AARONS~1\\AppData\\Local\\Temp/ipykernel_16720/3978052641.py\u001b[0m in \u001b[0;36m<module>\u001b[1;34m\u001b[0m\n\u001b[1;32m----> 1\u001b[1;33m df_stocks = api.get_barset(\n\u001b[0m\u001b[0;32m      2\u001b[0m     \u001b[0mtickers\u001b[0m\u001b[1;33m,\u001b[0m\u001b[1;33m\u001b[0m\u001b[1;33m\u001b[0m\u001b[0m\n\u001b[0;32m      3\u001b[0m     \u001b[0mtimeframe\u001b[0m\u001b[1;33m,\u001b[0m\u001b[1;33m\u001b[0m\u001b[1;33m\u001b[0m\u001b[0m\n\u001b[0;32m      4\u001b[0m     \u001b[0mstart\u001b[0m\u001b[1;33m=\u001b[0m\u001b[0mstart_date\u001b[0m\u001b[1;33m,\u001b[0m\u001b[1;33m\u001b[0m\u001b[1;33m\u001b[0m\u001b[0m\n\u001b[0;32m      5\u001b[0m     \u001b[0mend\u001b[0m\u001b[1;33m=\u001b[0m\u001b[0mend_date\u001b[0m\u001b[1;33m,\u001b[0m\u001b[1;33m\u001b[0m\u001b[1;33m\u001b[0m\u001b[0m\n",
      "\u001b[1;31mNameError\u001b[0m: name 'api' is not defined"
     ]
    }
   ],
   "source": [
    "df_stocks = api.get_barset(\n",
    "    tickers,\n",
    "    timeframe,\n",
    "    start=start_date,\n",
    "    end=end_date,\n",
    "    limit=1000\n",
    ").df"
   ]
  },
  {
   "cell_type": "code",
   "execution_count": null,
   "id": "be41ebc4-fb4e-4475-b608-c2144755a9a6",
   "metadata": {},
   "outputs": [],
   "source": []
  }
 ],
 "metadata": {
  "kernelspec": {
   "display_name": "Python [conda env:alpacaenv]",
   "language": "python",
   "name": "conda-env-alpacaenv-py"
  },
  "language_info": {
   "codemirror_mode": {
    "name": "ipython",
    "version": 3
   },
   "file_extension": ".py",
   "mimetype": "text/x-python",
   "name": "python",
   "nbconvert_exporter": "python",
   "pygments_lexer": "ipython3",
   "version": "3.7.11"
  }
 },
 "nbformat": 4,
 "nbformat_minor": 5
}
